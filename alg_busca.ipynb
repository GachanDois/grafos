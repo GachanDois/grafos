{
 "cells": [
  {
   "cell_type": "code",
   "execution_count": 8,
   "metadata": {},
   "outputs": [
    {
     "name": "stdout",
     "output_type": "stream",
     "text": [
      "Following is the Breadth-First Search\n",
      "1 2 18 3 17 4 16 5 15 6 19 14 7 13 8 12 9 11 10 "
     ]
    }
   ],
   "source": [
    "graph1 = {   1:[2,18],\n",
    "            2:[1,3],\n",
    "            3:[2,4],\n",
    "            4:[3,5],\n",
    "            5:[4,6,19],\n",
    "            6:[5,7],\n",
    "            7:[6,8],\n",
    "            8:[7,9],\n",
    "            9:[8,10],\n",
    "            10:[9,11],\n",
    "            11:[10,12],\n",
    "            12:[11,13],\n",
    "            13:[12,14,19],\n",
    "            14:[13,15],\n",
    "            15:[14,16],\n",
    "            16:[15,17],\n",
    "            17:[16,18],\n",
    "            18:[1,17],\n",
    "            19:[5,13],\n",
    "}\n",
    "\n",
    "def paths(graph, start, end):\n",
    "    todo = [[start, [start]]]\n",
    "    while 0 < len(todo):\n",
    "        (node, path) = todo.pop(0)\n",
    "        for next_node in graph[node]:\n",
    "            if next_node in path:\n",
    "                continue\n",
    "            elif next_node == end:\n",
    "                yield path + [next_node]\n",
    "            else:\n",
    "                todo.append([next_node, path + [next_node]])\n",
    "\n",
    "visited = [] # List for visited nodes.\n",
    "queue = []     #Initialize a queue\n",
    "\n",
    "def bfs(visited, graph, node): #function for BFS\n",
    "  visited.append(node)\n",
    "  queue.append(node)\n",
    "\n",
    "  while queue:          # Creating loop to visit each node\n",
    "    m = queue.pop(0) \n",
    "    print (m, end = \" \") \n",
    "\n",
    "    for neighbour in graph[m]:\n",
    "      if neighbour not in visited:\n",
    "        visited.append(neighbour)\n",
    "        queue.append(neighbour)\n",
    "\n",
    "# Driver Code\n",
    "print(\"Following is the Breadth-First Search\")\n",
    "bfs(visited, graph1, 1)    # function calling"
   ]
  },
  {
   "cell_type": "code",
   "execution_count": 9,
   "metadata": {},
   "outputs": [
    {
     "name": "stdout",
     "output_type": "stream",
     "text": [
      "[[1, 18, 17, 16, 15]]\n"
     ]
    }
   ],
   "source": [
    "\n",
    "\n",
    "\n",
    "graph1 = {   1:[2,18],\n",
    "            2:[1,3],\n",
    "            3:[2,4],\n",
    "            4:[3,5],\n",
    "            5:[4,6,19],\n",
    "            6:[5,7],\n",
    "            7:[6,8],\n",
    "            8:[7,9],\n",
    "            9:[8,10],\n",
    "            10:[9,11],\n",
    "            11:[10,12],\n",
    "            12:[11,13],\n",
    "            13:[12,14,19],\n",
    "            14:[13,15],\n",
    "            15:[14,16],\n",
    "            16:[15,17],\n",
    "            17:[16,18],\n",
    "            18:[1,17],\n",
    "            19:[5,13],\n",
    "}\n",
    "\n",
    "grafo = [\n",
    "[0, 1, 2, 3, 4, 5, 6, 7, 8, 0],\n",
    "[0, 18, 0, 0, 0, 19, 0, 0, 9, 0],\n",
    "[0, 17, 16, 15, 14, 13, 12, 11, 10, 0]]\n",
    "\n",
    "\n",
    "menor_caminho = []\n",
    "for path in paths(graph1, 1, 15):\n",
    "    while len(menor_caminho) == 0:\n",
    "        menor_caminho.append(path)\n",
    "    if len(path) < len(menor_caminho):\n",
    "        menor_caminho.append(path)\n",
    "    else:\n",
    "        continue\n",
    "\n",
    "print(menor_caminho)\n"
   ]
  },
  {
   "cell_type": "code",
   "execution_count": 16,
   "metadata": {},
   "outputs": [
    {
     "name": "stdout",
     "output_type": "stream",
     "text": [
      "<generator object paths at 0x000002ABA7E76040>\n"
     ]
    }
   ],
   "source": []
  },
  {
   "cell_type": "code",
   "execution_count": null,
   "metadata": {},
   "outputs": [],
   "source": []
  }
 ],
 "metadata": {
  "kernelspec": {
   "display_name": "Python 3.8.12 ('Python3.8')",
   "language": "python",
   "name": "python3"
  },
  "language_info": {
   "codemirror_mode": {
    "name": "ipython",
    "version": 3
   },
   "file_extension": ".py",
   "mimetype": "text/x-python",
   "name": "python",
   "nbconvert_exporter": "python",
   "pygments_lexer": "ipython3",
   "version": "3.8.12"
  },
  "orig_nbformat": 4,
  "vscode": {
   "interpreter": {
    "hash": "c90f76360b09ad76695ee9e6450b9f1aa36c1ed15694be13cbea30fdfcf8c98b"
   }
  }
 },
 "nbformat": 4,
 "nbformat_minor": 2
}
