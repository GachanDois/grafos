{
 "cells": [
  {
   "cell_type": "code",
   "execution_count": 27,
   "metadata": {},
   "outputs": [],
   "source": [
    "def recursive_dfs(graph, node): #dfs recursivo normal\n",
    "    result = []\n",
    "    seen = set()\n",
    "\n",
    "    def recursive_helper(node):\n",
    "        for neighbor in graph[node]:\n",
    "            if neighbor not in seen:\n",
    "                result.append(neighbor)     \n",
    "                seen.add(neighbor)\n",
    "                recursive_helper(neighbor)\n",
    "\n",
    "    recursive_helper(node)\n",
    "    return result\n",
    "\n",
    "def recursive_topological_sort(graph, node): #ordenação topologica recursiva\n",
    "    result = [] #lista vazia inicializada vazia\n",
    "    seen = set() #lista de grafos visitados  \n",
    "\n",
    "    def recursive_helper(node): #chamadas recursivas\n",
    "        for neighbor in graph[node]: #pra cada vizinho no vertice do grafo\n",
    "            if neighbor not in seen: #se o vizinho nao tiver na lista de visitados\n",
    "                seen.add(neighbor) #adiciona na lista de visitados\n",
    "                recursive_helper(neighbor) # chama agr a recursiva com o visinho q nao foi visitado como parametro e agr ele ja vai ter sido visitado\n",
    "        result.insert(len(result), node) # coloca o visinho dps de visitado na lista de resultado sempre na ultima posição \n",
    "                    \n",
    "\n",
    "    recursive_helper(node)\n",
    "    return result"
   ]
  },
  {
   "cell_type": "code",
   "execution_count": 28,
   "metadata": {},
   "outputs": [
    {
     "data": {
      "text/plain": [
       "['e', 'd', 'b', 'c', 'a']"
      ]
     },
     "execution_count": 28,
     "metadata": {},
     "output_type": "execute_result"
    }
   ],
   "source": [
    "graph = {\n",
    "    'a': ['b', 'c'],\n",
    "    'b': ['d'],\n",
    "    'c': ['d'],\n",
    "    'd': ['e'],\n",
    "    'e': []\n",
    "}\n",
    "#aqui a ordenação topologica utilizando o vertice q quer começar\n",
    "recursive_topological_sort(graph, 'a')"
   ]
  },
  {
   "cell_type": "code",
   "execution_count": 24,
   "metadata": {},
   "outputs": [
    {
     "data": {
      "text/plain": [
       "['b', 'd', 'e', 'c']"
      ]
     },
     "execution_count": 24,
     "metadata": {},
     "output_type": "execute_result"
    }
   ],
   "source": [
    "#aqui o dfs recursivo q escolhe de onde vc quer começar a busca\n",
    "recursive_dfs(graph, 'a')"
   ]
  },
  {
   "cell_type": "code",
   "execution_count": 21,
   "metadata": {},
   "outputs": [
    {
     "name": "stdout",
     "output_type": "stream",
     "text": [
      "['e', 'd', 'b', 'c', 'a']\n"
     ]
    }
   ],
   "source": [
    "#a mesma coisa soq usando a biblioteca igraph do python\n",
    "#para testar no pc de vcs tem q dar um pip install graphlib-backport\n",
    "\n",
    "from graphlib import TopologicalSorter\n",
    "ts = TopologicalSorter(graph)\n",
    "print([*ts.static_order()])"
   ]
  },
  {
   "cell_type": "code",
   "execution_count": null,
   "metadata": {},
   "outputs": [],
   "source": []
  }
 ],
 "metadata": {
  "kernelspec": {
   "display_name": "Python 3.8.12 ('Python3.8')",
   "language": "python",
   "name": "python3"
  },
  "language_info": {
   "codemirror_mode": {
    "name": "ipython",
    "version": 3
   },
   "file_extension": ".py",
   "mimetype": "text/x-python",
   "name": "python",
   "nbconvert_exporter": "python",
   "pygments_lexer": "ipython3",
   "version": "3.8.12"
  },
  "orig_nbformat": 4,
  "vscode": {
   "interpreter": {
    "hash": "c90f76360b09ad76695ee9e6450b9f1aa36c1ed15694be13cbea30fdfcf8c98b"
   }
  }
 },
 "nbformat": 4,
 "nbformat_minor": 2
}
